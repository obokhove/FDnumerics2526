{
 "cells": [
  {
   "cell_type": "code",
   "execution_count": 2,
   "id": "e242707d",
   "metadata": {},
   "outputs": [],
   "source": [
    "# Imports\n",
    "import numpy as np\n",
    "import pandas as pd\n",
    "import matplotlib.pyplot as plt"
   ]
  },
  {
   "cell_type": "markdown",
   "id": "22c4fc25",
   "metadata": {},
   "source": [
    "### 2a)\n",
    "\n",
    "Computing the solution to the equation\n",
    "$$\\beta b^3 \\frac{db}{dz} = \\alpha b^3 - Q$$\n",
    "which represents the steady state of the equations handled in part 1.\n",
    "\n",
    "A Forward Euler method is used for the discretisation."
   ]
  },
  {
   "cell_type": "code",
   "execution_count": 6,
   "id": "81b494b1",
   "metadata": {},
   "outputs": [],
   "source": [
    "# Functions to solve the equation\n",
    "\n",
    "# Calculating the b value at z given knowledge of the value at z - dz.\n",
    "def steady_iteration(Q: float, alpha: float, beta: float, bPrev: float, \n",
    "                     dz: float) -> float:\n",
    "    b = bPrev + dz * (alpha * bPrev**3 - Q) / (beta * bPrev**3)\n",
    "    return b\n",
    "\n",
    "# Solves the steady state equation for the range of z from 0 to H\n",
    "def solve_steady(alpha: float, beta: float, Q: float, H: float, \n",
    "                 J: int, b0: float) -> pd.DataFrame:\n",
    "    \"\"\"\n",
    "    Solving the steady state equation using a forward euler method.\n",
    "    Parameters:\n",
    "    ----------\n",
    "    alpha : float\n",
    "        Parameter alpha in the equation.\n",
    "    beta : float\n",
    "        Parameter beta in the equation.\n",
    "    Q : float\n",
    "        Parameter Q in the equation.\n",
    "    H : float\n",
    "        The height of the domain.\n",
    "    J : int\n",
    "        The number of steps in the z direction.\n",
    "    b0 : float\n",
    "        The boundary condition at z = 0.\n",
    "    Returns:\n",
    "    -------\n",
    "    pd.DataFrame\n",
    "        A dataframe with two columns: z and b, where z is the position\n",
    "        in the domain and b is the corresponding value of b at that position.\n",
    "    \"\"\"\n",
    "\n",
    "    # Initialize the array to store the values of b at each step\n",
    "    b_values = [b0]\n",
    "    dz = H / J\n",
    "\n",
    "    # Iteratively apply the update scheme to compute b at each step\n",
    "    for j in range(1, J + 1):\n",
    "        b_next = steady_iteration(alpha, beta, Q, b_values[-1], dz)\n",
    "        b_values.append(b_next)\n",
    "\n",
    "    # Create a 2 column table of z againsst b values \n",
    "    z_values = [j * dz for j in range(J + 1)]\n",
    "    result: list[tuple[float, float]] = list(zip(z_values, b_values))\n",
    "    df = pd.DataFrame(result, columns=[\"z\", \"b\"])\n",
    "\n",
    "    return df"
   ]
  },
  {
   "cell_type": "code",
   "execution_count": null,
   "id": "4745c462",
   "metadata": {},
   "outputs": [],
   "source": [
    "# Defining Parameters\n",
    "\n",
    "Q = 0.99\n",
    "alpha = 0.4709\n",
    "beta = 1 \n",
    "H = 1\n",
    "bB = 1.178164343"
   ]
  },
  {
   "cell_type": "code",
   "execution_count": 11,
   "id": "2741ed1d",
   "metadata": {},
   "outputs": [],
   "source": [
    "# Solving the steady state equation for the given parameters\n",
    "steady_solution: pd.DataFrame = solve_steady(alpha, beta, Q, H, 41, bB)"
   ]
  },
  {
   "cell_type": "code",
   "execution_count": 7,
   "id": "31b9eae6",
   "metadata": {},
   "outputs": [],
   "source": [
    "def dimension_plot(figure, axis, df, label_x, label_y, legend_entry):\n",
    "    axis.plot(df[label_x], df[label_y], label=legend_entry)\n",
    "    axis.set_xlabel(label_x)\n",
    "    axis.set_ylabel(label_y)\n",
    "    axis.legend()\n",
    "    figure.tight_layout()\n",
    "    plt.show()"
   ]
  },
  {
   "cell_type": "code",
   "execution_count": 13,
   "id": "851888d7",
   "metadata": {},
   "outputs": [
    {
     "data": {
      "text/plain": [
       "Index(['z', 'b'], dtype='object')"
      ]
     },
     "execution_count": 13,
     "metadata": {},
     "output_type": "execute_result"
    }
   ],
   "source": [
    "steady_solution.columns"
   ]
  },
  {
   "cell_type": "code",
   "execution_count": 14,
   "id": "a02d4ad5",
   "metadata": {},
   "outputs": [
    {
     "data": {
      "image/png": "[encoded data removed]",
      "text/plain": [
       "<Figure size 640x480 with 1 Axes>"
      ]
     },
     "metadata": {},
     "output_type": "display_data"
    }
   ],
   "source": [
    "# Plot the dimension plot of the steady solution#\n",
    "fig, ax = plt.subplots()\n",
    "dimension_plot(fig, ax, steady_solution, \"z\", \"b\", \"Steady State Solution\")\n"
   ]
  },
  {
   "cell_type": "markdown",
   "id": "64254312",
   "metadata": {},
   "source": []
  }
 ],
 "metadata": {
  "kernelspec": {
   "display_name": "Python 3",
   "language": "python",
   "name": "python3"
  },
  "language_info": {
   "codemirror_mode": {
    "name": "ipython",
    "version": 3
   },
   "file_extension": ".py",
   "mimetype": "text/x-python",
   "name": "python",
   "nbconvert_exporter": "python",
   "pygments_lexer": "ipython3",
   "version": "3.12.3"
  }
 },
 "nbformat": 4,
 "nbformat_minor": 5
}
